{
 "cells": [
  {
   "cell_type": "markdown",
   "id": "sweet-estimate",
   "metadata": {},
   "source": [
    "`Name: Nitin Kumar Singh`\n",
    "\n",
    "`LinkedIn: https://www.linkedin.com/in/nitinsingh2706/`"
   ]
  },
  {
   "cell_type": "markdown",
   "id": "black-session",
   "metadata": {},
   "source": [
    "### Task #1: Predict the percentage of a student based on the no. of study hours.\n",
    "\n",
    "This is a simple linear regression task as it involves just 2 variables.You can use R, Python, SAS Enterprise Miner or any other tool.\n",
    "\n",
    "`Q: What will be predicted score if a student studies for 9.25 hrs/ day?`"
   ]
  },
  {
   "cell_type": "markdown",
   "id": "facial-opportunity",
   "metadata": {},
   "source": [
    "#### Linear Regression:\n",
    "Linear regression is a statistical method for modelling relationship between a dependent variable with a given set of independent variables."
   ]
  },
  {
   "cell_type": "markdown",
   "id": "surprised-opportunity",
   "metadata": {},
   "source": [
    "In this given task I'll be performing Simple Linear Regression. Simple linear regression is an approach for predicting a response using a single feature. So, I'll be using number of study hours of a student to predict the percentage."
   ]
  },
  {
   "cell_type": "code",
   "execution_count": 1,
   "id": "outdoor-mexican",
   "metadata": {},
   "outputs": [],
   "source": [
    "## Importing libraries\n",
    "\n",
    "import pandas as pd\n",
    "import numpy as np\n",
    "import matplotlib.pyplot as plt\n",
    "%matplotlib inline\n",
    "import seaborn as sns\n",
    "from scipy.stats import pearsonr\n",
    "from sklearn.model_selection import train_test_split\n",
    "from sklearn.linear_model import LinearRegression\n",
    "from sklearn.metrics import r2_score"
   ]
  },
  {
   "cell_type": "code",
   "execution_count": 2,
   "id": "structural-feature",
   "metadata": {},
   "outputs": [
    {
     "data": {
      "text/html": [
       "<div>\n",
       "<style scoped>\n",
       "    .dataframe tbody tr th:only-of-type {\n",
       "        vertical-align: middle;\n",
       "    }\n",
       "\n",
       "    .dataframe tbody tr th {\n",
       "        vertical-align: top;\n",
       "    }\n",
       "\n",
       "    .dataframe thead th {\n",
       "        text-align: right;\n",
       "    }\n",
       "</style>\n",
       "<table border=\"1\" class=\"dataframe\">\n",
       "  <thead>\n",
       "    <tr style=\"text-align: right;\">\n",
       "      <th></th>\n",
       "      <th>Hours</th>\n",
       "      <th>Scores</th>\n",
       "    </tr>\n",
       "  </thead>\n",
       "  <tbody>\n",
       "    <tr>\n",
       "      <th>0</th>\n",
       "      <td>2.5</td>\n",
       "      <td>21</td>\n",
       "    </tr>\n",
       "    <tr>\n",
       "      <th>1</th>\n",
       "      <td>5.1</td>\n",
       "      <td>47</td>\n",
       "    </tr>\n",
       "    <tr>\n",
       "      <th>2</th>\n",
       "      <td>3.2</td>\n",
       "      <td>27</td>\n",
       "    </tr>\n",
       "    <tr>\n",
       "      <th>3</th>\n",
       "      <td>8.5</td>\n",
       "      <td>75</td>\n",
       "    </tr>\n",
       "    <tr>\n",
       "      <th>4</th>\n",
       "      <td>3.5</td>\n",
       "      <td>30</td>\n",
       "    </tr>\n",
       "  </tbody>\n",
       "</table>\n",
       "</div>"
      ],
      "text/plain": [
       "   Hours  Scores\n",
       "0    2.5      21\n",
       "1    5.1      47\n",
       "2    3.2      27\n",
       "3    8.5      75\n",
       "4    3.5      30"
      ]
     },
     "execution_count": 2,
     "metadata": {},
     "output_type": "execute_result"
    }
   ],
   "source": [
    "## reading the data\n",
    "\n",
    "data = pd.read_csv('http://bit.ly/w-data')\n",
    "data.head()"
   ]
  },
  {
   "cell_type": "markdown",
   "id": "scenic-microphone",
   "metadata": {},
   "source": [
    "Here, we have successfully uploaded our data and can see our dataset has two columns Hours and Scores(in percent)."
   ]
  },
  {
   "cell_type": "code",
   "execution_count": 3,
   "id": "dietary-player",
   "metadata": {},
   "outputs": [
    {
     "name": "stdout",
     "output_type": "stream",
     "text": [
      "Shape of dataset:  (25, 2)\n",
      "\n",
      "Datatypes of the dataset:\n",
      "Hours     float64\n",
      "Scores      int64\n",
      "dtype: object\n"
     ]
    }
   ],
   "source": [
    "## checking for shape and datatypes of the dataset\n",
    "\n",
    "print(\"Shape of dataset: \",data.shape)\n",
    "print()\n",
    "\n",
    "print(\"Datatypes of the dataset:\")\n",
    "print(data.dtypes)"
   ]
  },
  {
   "cell_type": "markdown",
   "id": "electric-importance",
   "metadata": {},
   "source": [
    "From the above outputs, we can observe shape of our dataset, like this dataset has 25 rows and 2 columns. Hour column is float64 type and Score is int64 type."
   ]
  },
  {
   "cell_type": "code",
   "execution_count": 4,
   "id": "particular-blair",
   "metadata": {},
   "outputs": [
    {
     "data": {
      "text/plain": [
       "0"
      ]
     },
     "execution_count": 4,
     "metadata": {},
     "output_type": "execute_result"
    }
   ],
   "source": [
    "## checking for duplicates\n",
    "\n",
    "data.duplicated().sum()"
   ]
  },
  {
   "cell_type": "markdown",
   "id": "sought-current",
   "metadata": {},
   "source": [
    "No, duplicates found in our dataset."
   ]
  },
  {
   "cell_type": "code",
   "execution_count": 5,
   "id": "chinese-design",
   "metadata": {},
   "outputs": [
    {
     "data": {
      "image/png": "[encoded data removed]",
      "text/plain": [
       "<Figure size 864x432 with 1 Axes>"
      ]
     },
     "metadata": {
      "needs_background": "light"
     },
     "output_type": "display_data"
    }
   ],
   "source": [
    "## plotting the distribution of datset using seaborn\n",
    "\n",
    "plt.figure(figsize=(12,6))\n",
    "ax = sns.scatterplot(x=data['Hours'], y=data['Scores'])\n",
    "ax.set_xlabel('No of Hours Studied',fontdict={'fontsize' : 15})\n",
    "ax.set_ylabel('Percentage Obtained',fontdict={'fontsize' : 15})\n",
    "ax.set_title(\"Hours Vs Percentage\",fontdict={'fontsize' : 20})\n",
    "plt.show()"
   ]
  },
  {
   "cell_type": "markdown",
   "id": "patent-place",
   "metadata": {},
   "source": [
    "So, here we can observe clearly, there is a linear relationship between Hours and Percentage. More study more better percentage."
   ]
  },
  {
   "cell_type": "code",
   "execution_count": 6,
   "id": "floppy-escape",
   "metadata": {},
   "outputs": [
    {
     "name": "stdout",
     "output_type": "stream",
     "text": [
      "Correlation between Hours and Scores is: 0.98\n"
     ]
    }
   ],
   "source": [
    "## checking for correlation\n",
    "\n",
    "corr= pearsonr(data['Hours'], data['Scores'])\n",
    "print(\"Correlation between Hours and Scores is: %.2f\" %corr[0])"
   ]
  },
  {
   "cell_type": "code",
   "execution_count": 7,
   "id": "stuffed-woman",
   "metadata": {},
   "outputs": [],
   "source": [
    "## separating target variable and independent variable\n",
    "\n",
    "x = data.iloc[:,:-1].values\n",
    "y = data.iloc[:,1].values"
   ]
  },
  {
   "cell_type": "code",
   "execution_count": 8,
   "id": "amended-damage",
   "metadata": {},
   "outputs": [],
   "source": [
    "## performing train-test split to train our model\n",
    "\n",
    "X_train, X_test, y_train, y_test = train_test_split(x, y, test_size=0.2, random_state=0)"
   ]
  },
  {
   "cell_type": "code",
   "execution_count": 9,
   "id": "golden-eagle",
   "metadata": {},
   "outputs": [
    {
     "data": {
      "text/plain": [
       "LinearRegression()"
      ]
     },
     "execution_count": 9,
     "metadata": {},
     "output_type": "execute_result"
    }
   ],
   "source": [
    "## implementing linear regression model\n",
    "\n",
    "lr = LinearRegression()\n",
    "lr.fit(X_train, y_train)"
   ]
  },
  {
   "cell_type": "code",
   "execution_count": 10,
   "id": "exotic-beauty",
   "metadata": {},
   "outputs": [
    {
     "name": "stdout",
     "output_type": "stream",
     "text": [
      "Coefficient:  9.910656480642237\n",
      "Intercept:  2.018160041434683\n"
     ]
    }
   ],
   "source": [
    "## checking coeffcient and intercept\n",
    "\n",
    "print(\"Coefficient: \", lr.coef_[0])\n",
    "print(\"Intercept: \", lr.intercept_)"
   ]
  },
  {
   "cell_type": "code",
   "execution_count": 11,
   "id": "selective-rouge",
   "metadata": {},
   "outputs": [],
   "source": [
    "line = lr.coef_[0]*x+lr.intercept_"
   ]
  },
  {
   "cell_type": "code",
   "execution_count": 12,
   "id": "static-layer",
   "metadata": {},
   "outputs": [
    {
     "data": {
      "image/png": "[encoded data removed]",
      "text/plain": [
       "<Figure size 864x432 with 1 Axes>"
      ]
     },
     "metadata": {
      "needs_background": "light"
     },
     "output_type": "display_data"
    }
   ],
   "source": [
    "## plotting regression line on the distribution of dataset\n",
    "\n",
    "plt.figure(figsize=(12,6))\n",
    "ax = sns.scatterplot(x=data['Hours'], y=data['Scores'])\n",
    "ax.set_xlabel('No of Hours Studied',fontdict={'fontsize' : 15})\n",
    "ax.set_ylabel('Percentage Obtained',fontdict={'fontsize' : 15})\n",
    "ax.set_title(\"Hours Vs Percentage\",fontdict={'fontsize' : 20})\n",
    "plt.plot(x, line)\n",
    "plt.show()"
   ]
  },
  {
   "cell_type": "code",
   "execution_count": 13,
   "id": "contained-coordinate",
   "metadata": {},
   "outputs": [
    {
     "name": "stdout",
     "output_type": "stream",
     "text": [
      "Prediction values: \n",
      " [16.88414476 33.73226078 75.357018   26.79480124 60.49103328]\n"
     ]
    }
   ],
   "source": [
    "## predicting X_test\n",
    "\n",
    "y_pred = lr.predict(X_test)\n",
    "print(\"Prediction values: \\n\", y_pred)"
   ]
  },
  {
   "cell_type": "code",
   "execution_count": 14,
   "id": "hazardous-belgium",
   "metadata": {},
   "outputs": [
    {
     "name": "stdout",
     "output_type": "stream",
     "text": [
      "R squre value of the model is: 0.945\n"
     ]
    }
   ],
   "source": [
    "## calculating r2\n",
    "\n",
    "r2 = r2_score(y_test, y_pred)\n",
    "print(\"R squre value of the model is: %.3f\" %r2)"
   ]
  },
  {
   "cell_type": "markdown",
   "id": "neutral-interference",
   "metadata": {},
   "source": [
    "`Q: What will be predicted score if a student studies for 9.25 hrs/ day?`"
   ]
  },
  {
   "cell_type": "code",
   "execution_count": 15,
   "id": "literary-sewing",
   "metadata": {},
   "outputs": [
    {
     "name": "stdout",
     "output_type": "stream",
     "text": [
      "If a student will study for [[9.25]], predicted score will be [93.69173249]\n"
     ]
    }
   ],
   "source": [
    "hrs = [[9.25]]\n",
    "pred = lr.predict(hrs)\n",
    "\n",
    "print(f\"If a student will study for {hrs}, predicted score will be {pred}\")"
   ]
  }
 ],
 "metadata": {
  "kernelspec": {
   "display_name": "Python 3",
   "language": "python",
   "name": "python3"
  },
  "language_info": {
   "codemirror_mode": {
    "name": "ipython",
    "version": 3
   },
   "file_extension": ".py",
   "mimetype": "text/x-python",
   "name": "python",
   "nbconvert_exporter": "python",
   "pygments_lexer": "ipython3",
   "version": "3.8.5"
  }
 },
 "nbformat": 4,
 "nbformat_minor": 5
}
